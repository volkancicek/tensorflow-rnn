{
 "cells": [
  {
   "cell_type": "code",
   "execution_count": 1,
   "metadata": {},
   "outputs": [],
   "source": [
    "from __future__ import absolute_import, division, print_function, unicode_literals\n",
    "try:\n",
    "  # %tensorflow_version only exists in Colab.\n",
    "  %tensorflow_version 2.x\n",
    "except Exception:\n",
    "  pass\n",
    "import tensorflow as tf\n",
    "\n",
    "import matplotlib as mpl\n",
    "import matplotlib.pyplot as plt\n",
    "import numpy as np\n",
    "import os\n",
    "import pandas as pd"
   ]
  },
  {
   "cell_type": "code",
   "execution_count": 2,
   "metadata": {
    "scrolled": true
   },
   "outputs": [
    {
     "data": {
      "text/html": [
       "<div>\n",
       "<style scoped>\n",
       "    .dataframe tbody tr th:only-of-type {\n",
       "        vertical-align: middle;\n",
       "    }\n",
       "\n",
       "    .dataframe tbody tr th {\n",
       "        vertical-align: top;\n",
       "    }\n",
       "\n",
       "    .dataframe thead th {\n",
       "        text-align: right;\n",
       "    }\n",
       "</style>\n",
       "<table border=\"1\" class=\"dataframe\">\n",
       "  <thead>\n",
       "    <tr style=\"text-align: right;\">\n",
       "      <th></th>\n",
       "      <th>time_stamp</th>\n",
       "      <th>date_time</th>\n",
       "      <th>volume_per_hour</th>\n",
       "      <th>speed_kmh</th>\n",
       "      <th>travel_time</th>\n",
       "      <th>free_flow_travel_time</th>\n",
       "      <th>usual_delay_sec</th>\n",
       "      <th>delay_sec</th>\n",
       "    </tr>\n",
       "  </thead>\n",
       "  <tbody>\n",
       "    <tr>\n",
       "      <th>0</th>\n",
       "      <td>1576796430000</td>\n",
       "      <td>20/12/2019 00:01:00</td>\n",
       "      <td>388</td>\n",
       "      <td>12.250033</td>\n",
       "      <td>61</td>\n",
       "      <td>35</td>\n",
       "      <td>-1</td>\n",
       "      <td>26</td>\n",
       "    </tr>\n",
       "    <tr>\n",
       "      <th>1</th>\n",
       "      <td>1576796490000</td>\n",
       "      <td>20/12/2019 00:02:00</td>\n",
       "      <td>388</td>\n",
       "      <td>14.652000</td>\n",
       "      <td>51</td>\n",
       "      <td>35</td>\n",
       "      <td>-1</td>\n",
       "      <td>16</td>\n",
       "    </tr>\n",
       "    <tr>\n",
       "      <th>2</th>\n",
       "      <td>1576796550001</td>\n",
       "      <td>20/12/2019 00:03:00</td>\n",
       "      <td>388</td>\n",
       "      <td>13.586401</td>\n",
       "      <td>55</td>\n",
       "      <td>35</td>\n",
       "      <td>-1</td>\n",
       "      <td>20</td>\n",
       "    </tr>\n",
       "    <tr>\n",
       "      <th>3</th>\n",
       "      <td>1576796610000</td>\n",
       "      <td>20/12/2019 00:04:00</td>\n",
       "      <td>388</td>\n",
       "      <td>13.586401</td>\n",
       "      <td>55</td>\n",
       "      <td>35</td>\n",
       "      <td>-1</td>\n",
       "      <td>20</td>\n",
       "    </tr>\n",
       "    <tr>\n",
       "      <th>4</th>\n",
       "      <td>1576796670000</td>\n",
       "      <td>20/12/2019 00:05:00</td>\n",
       "      <td>388</td>\n",
       "      <td>13.586401</td>\n",
       "      <td>55</td>\n",
       "      <td>35</td>\n",
       "      <td>-1</td>\n",
       "      <td>20</td>\n",
       "    </tr>\n",
       "  </tbody>\n",
       "</table>\n",
       "</div>"
      ],
      "text/plain": [
       "      time_stamp            date_time  volume_per_hour  speed_kmh  \\\n",
       "0  1576796430000  20/12/2019 00:01:00              388  12.250033   \n",
       "1  1576796490000  20/12/2019 00:02:00              388  14.652000   \n",
       "2  1576796550001  20/12/2019 00:03:00              388  13.586401   \n",
       "3  1576796610000  20/12/2019 00:04:00              388  13.586401   \n",
       "4  1576796670000  20/12/2019 00:05:00              388  13.586401   \n",
       "\n",
       "   travel_time  free_flow_travel_time  usual_delay_sec  delay_sec  \n",
       "0           61                     35               -1         26  \n",
       "1           51                     35               -1         16  \n",
       "2           55                     35               -1         20  \n",
       "3           55                     35               -1         20  \n",
       "4           55                     35               -1         20  "
      ]
     },
     "execution_count": 2,
     "metadata": {},
     "output_type": "execute_result"
    }
   ],
   "source": [
    "csv_path = '..\\data\\_approach_1.csv'\n",
    "df = pd.read_csv(csv_path)\n",
    "df.head()"
   ]
  },
  {
   "cell_type": "code",
   "execution_count": 3,
   "metadata": {},
   "outputs": [],
   "source": [
    "df.volume_per_hour = df.loc[:,\"volume_per_hour\"].replace(to_replace=0, method='ffill')\n",
    "df.speed_kmh = df.loc[:,\"speed_kmh\"].replace(to_replace=0, method='ffill')\n",
    "df.travel_time = df.loc[:,\"travel_time\"].replace(to_replace=0, method='ffill')\n",
    "df.loc[df.volume_per_hour > 1800, \"volume_per_hour\"] = 1800"
   ]
  },
  {
   "cell_type": "code",
   "execution_count": 4,
   "metadata": {},
   "outputs": [],
   "source": [
    "def aggregate_df_each_five_min(df, begin_time_stamp):\n",
    "    mean_vol = df.volume_per_hour.mean()\n",
    "    mean_speed = df.speed_kmh.mean()\n",
    "    mean_travel_time = df.travel_time.mean()\n",
    "    five_min_speed_aggr = []\n",
    "    five_min_vol_aggr = []\n",
    "    five_min_tt_aggr = []\n",
    "\n",
    "    date_list = []\n",
    "    timestamp_list = []\n",
    "    for i in range(df.shape[0] // 5):\n",
    "        five_min_result = df.loc[\n",
    "            (df.time_stamp >= begin_time_stamp) & (df.time_stamp <= begin_time_stamp + 300000)]\n",
    "        five_min_count = five_min_result.shape[0]\n",
    "        timestamp_list.append(begin_time_stamp + 300000)\n",
    "        if five_min_count > 0:\n",
    "            five_min_vol_aggr.append(five_min_result.volume_per_hour.mean())\n",
    "            five_min_speed_aggr.append(five_min_result.speed_kmh.mean())\n",
    "            five_min_tt_aggr.append(five_min_result.travel_time.mean())\n",
    "            date_list.append(five_min_result.iloc[five_min_count - 1].date_time)\n",
    "        else:\n",
    "            five_min_vol_aggr.append(mean_vol)\n",
    "            five_min_speed_aggr.append(mean_speed)\n",
    "            five_min_tt_aggr.append(mean_travel_time) \n",
    "\n",
    "        begin_time_stamp = begin_time_stamp + 300000\n",
    "\n",
    "    return timestamp_list, date_list, five_min_vol_aggr, five_min_speed_aggr, five_min_tt_aggr"
   ]
  },
  {
   "cell_type": "code",
   "execution_count": 5,
   "metadata": {},
   "outputs": [],
   "source": [
    "start_timestamp = 1576796429000\n",
    "five_min_tuples = aggregate_df_each_five_min(df, start_timestamp)"
   ]
  },
  {
   "cell_type": "code",
   "execution_count": 6,
   "metadata": {},
   "outputs": [],
   "source": [
    "label_path = '..\\data\\MeasuremetStations30050.rpt'\n",
    "measures = pd.read_fwf(label_path, skiprows=[1], nrows=22285)\n",
    "measures.loc[:,\"Vehicles\"].replace(to_replace=0, method='ffill')\n",
    "measures.loc[measures[\"Vehicles\"] > 1800 , [\"Vehicles\"]] =  1800\n",
    "\n",
    "labels = measures[\"Vehicles\"]\n",
    "labels = labels * 12\n",
    "labels.index = measures[\"MeasurementStationID Timestamp\"]\n"
   ]
  },
  {
   "cell_type": "code",
   "execution_count": 7,
   "metadata": {},
   "outputs": [],
   "source": [
    "aggr_tuples = list(zip(five_min_tuples[0], five_min_tuples[1], five_min_tuples[2], five_min_tuples[3],\n",
    "                       five_min_tuples[4], labels))\n",
    "    \n",
    "aggr_df = pd.DataFrame(aggr_tuples,\n",
    "                           columns=[\"timestamp\", \"date\", \"volume_per_hour\", \"speed_kmh\", \"travel_time\", \"vehicle_count\"])"
   ]
  },
  {
   "cell_type": "code",
   "execution_count": 8,
   "metadata": {},
   "outputs": [
    {
     "data": {
      "text/plain": [
       "(19189, 6)"
      ]
     },
     "execution_count": 8,
     "metadata": {},
     "output_type": "execute_result"
    }
   ],
   "source": [
    "aggr_df.shape"
   ]
  },
  {
   "cell_type": "markdown",
   "metadata": {},
   "source": [
    "per_five_min  = df.iloc[lambda x: x.index % 5 == 4]\n",
    "dates = per_five_min[[\"time_stamp\", \"date_time\"]]"
   ]
  },
  {
   "cell_type": "markdown",
   "metadata": {},
   "source": [
    "//df = df.groupby(np.arange(len(df))//5).mean()"
   ]
  },
  {
   "cell_type": "code",
   "execution_count": 9,
   "metadata": {},
   "outputs": [
    {
     "data": {
      "text/html": [
       "<div>\n",
       "<style scoped>\n",
       "    .dataframe tbody tr th:only-of-type {\n",
       "        vertical-align: middle;\n",
       "    }\n",
       "\n",
       "    .dataframe tbody tr th {\n",
       "        vertical-align: top;\n",
       "    }\n",
       "\n",
       "    .dataframe thead th {\n",
       "        text-align: right;\n",
       "    }\n",
       "</style>\n",
       "<table border=\"1\" class=\"dataframe\">\n",
       "  <thead>\n",
       "    <tr style=\"text-align: right;\">\n",
       "      <th></th>\n",
       "      <th>volume_per_hour</th>\n",
       "      <th>speed_kmh</th>\n",
       "      <th>travel_time</th>\n",
       "      <th>vehicle_count</th>\n",
       "    </tr>\n",
       "    <tr>\n",
       "      <th>date</th>\n",
       "      <th></th>\n",
       "      <th></th>\n",
       "      <th></th>\n",
       "      <th></th>\n",
       "    </tr>\n",
       "  </thead>\n",
       "  <tbody>\n",
       "    <tr>\n",
       "      <th>20/12/2019 00:05:00</th>\n",
       "      <td>388.0</td>\n",
       "      <td>13.532247</td>\n",
       "      <td>55.4</td>\n",
       "      <td>528</td>\n",
       "    </tr>\n",
       "    <tr>\n",
       "      <th>20/12/2019 00:10:00</th>\n",
       "      <td>601.4</td>\n",
       "      <td>15.737581</td>\n",
       "      <td>47.8</td>\n",
       "      <td>432</td>\n",
       "    </tr>\n",
       "    <tr>\n",
       "      <th>20/12/2019 00:15:00</th>\n",
       "      <td>737.2</td>\n",
       "      <td>16.932894</td>\n",
       "      <td>44.2</td>\n",
       "      <td>504</td>\n",
       "    </tr>\n",
       "    <tr>\n",
       "      <th>20/12/2019 00:20:00</th>\n",
       "      <td>950.6</td>\n",
       "      <td>17.629972</td>\n",
       "      <td>42.4</td>\n",
       "      <td>444</td>\n",
       "    </tr>\n",
       "    <tr>\n",
       "      <th>20/12/2019 00:25:00</th>\n",
       "      <td>698.4</td>\n",
       "      <td>16.101206</td>\n",
       "      <td>46.6</td>\n",
       "      <td>432</td>\n",
       "    </tr>\n",
       "  </tbody>\n",
       "</table>\n",
       "</div>"
      ],
      "text/plain": [
       "                     volume_per_hour  speed_kmh  travel_time  vehicle_count\n",
       "date                                                                       \n",
       "20/12/2019 00:05:00            388.0  13.532247         55.4            528\n",
       "20/12/2019 00:10:00            601.4  15.737581         47.8            432\n",
       "20/12/2019 00:15:00            737.2  16.932894         44.2            504\n",
       "20/12/2019 00:20:00            950.6  17.629972         42.4            444\n",
       "20/12/2019 00:25:00            698.4  16.101206         46.6            432"
      ]
     },
     "execution_count": 9,
     "metadata": {},
     "output_type": "execute_result"
    }
   ],
   "source": [
    "features_considered = ['volume_per_hour', 'speed_kmh', 'travel_time', 'vehicle_count']\n",
    "features = aggr_df[features_considered]\n",
    "features.index = aggr_df['date']\n",
    "features.head()\n"
   ]
  },
  {
   "cell_type": "code",
   "execution_count": 10,
   "metadata": {},
   "outputs": [
    {
     "data": {
      "text/plain": [
       "array([<matplotlib.axes._subplots.AxesSubplot object at 0x0000014D49FC9148>,\n",
       "       <matplotlib.axes._subplots.AxesSubplot object at 0x0000014D49FD7F88>,\n",
       "       <matplotlib.axes._subplots.AxesSubplot object at 0x0000014D49FE6048>,\n",
       "       <matplotlib.axes._subplots.AxesSubplot object at 0x0000014D49FF4648>],\n",
       "      dtype=object)"
      ]
     },
     "execution_count": 10,
     "metadata": {},
     "output_type": "execute_result"
    },
    {
     "data": {
      "image/png": "[encoded data removed]",
      "text/plain": [
       "<Figure size 432x288 with 4 Axes>"
      ]
     },
     "metadata": {
      "needs_background": "light"
     },
     "output_type": "display_data"
    }
   ],
   "source": [
    "features.plot(subplots=True)"
   ]
  },
  {
   "cell_type": "code",
   "execution_count": 11,
   "metadata": {},
   "outputs": [],
   "source": [
    "TRAIN_SPLIT = 16000\n",
    "\n",
    "dataset = features.values\n",
    "data_mean = dataset[:TRAIN_SPLIT].mean(axis=0)\n",
    "data_std = dataset[:TRAIN_SPLIT].std(axis=0)\n",
    "dataset = (dataset-data_mean)/data_std"
   ]
  },
  {
   "cell_type": "code",
   "execution_count": 12,
   "metadata": {},
   "outputs": [],
   "source": [
    "def get_labeled_data(dataset, target, start_index, end_index, history_size,\n",
    "                      target_size, step, single_step=False):\n",
    "  data = []\n",
    "  labels = []\n",
    "\n",
    "  start_index = start_index + history_size\n",
    "  if end_index is None:\n",
    "    end_index = len(dataset) - target_size\n",
    "\n",
    "  for i in range(start_index, end_index):\n",
    "    indices = range(i-history_size, i, step)\n",
    "    data.append(dataset[indices])\n",
    "\n",
    "    if single_step:\n",
    "      labels.append(target[i+target_size])\n",
    "    else:\n",
    "      labels.append(target[i:i+target_size])\n",
    "\n",
    "  return np.array(data), np.array(labels)"
   ]
  },
  {
   "cell_type": "code",
   "execution_count": 13,
   "metadata": {},
   "outputs": [],
   "source": [
    "tf.random.set_seed(13)\n",
    "history_range = 288\n",
    "target_range = 1\n",
    "STEP = 1\n",
    "\n",
    "x_train_single, y_train_single = get_labeled_data(dataset, dataset[:,3], 0,\n",
    "                                                   TRAIN_SPLIT, history_range,\n",
    "                                                   target_range, STEP,\n",
    "                                                   single_step=True)\n",
    "x_val_single, y_val_single = get_labeled_data(dataset, dataset[:,3],\n",
    "                                               TRAIN_SPLIT, None, history_range,\n",
    "                                               target_range, STEP,\n",
    "                                               single_step=True)"
   ]
  },
  {
   "cell_type": "code",
   "execution_count": 14,
   "metadata": {},
   "outputs": [
    {
     "name": "stdout",
     "output_type": "stream",
     "text": [
      "Single window of past history\n",
      "[[ 0.0591903  -1.39563437  1.15296979 -0.09359784]\n",
      " [ 0.81977488 -0.93229685  0.57075576 -0.31665316]\n",
      " [ 1.30378325 -0.68116341  0.29497016 -0.14936167]\n",
      " ...\n",
      " [-0.2480374   1.39423861 -0.94606501 -0.12147976]\n",
      " [-0.51748535  1.94808776 -1.14524349 -0.42818082]\n",
      " [-0.8938571   2.36876801 -1.26781487 -0.26088933]]\n",
      "\n",
      " Target to predict\n",
      "-0.31665316131195437\n",
      "all history: (15712, 288, 4)\n"
     ]
    }
   ],
   "source": [
    "print ('Single window of past history')\n",
    "print (x_train_single[0])\n",
    "print ('\\n Target to predict')\n",
    "print (y_train_single[0])\n"
   ]
  },
  {
   "cell_type": "code",
   "execution_count": 15,
   "metadata": {},
   "outputs": [],
   "source": [
    "BATCH_SIZE = 256\n",
    "BUFFER_SIZE = 10000\n",
    "\n",
    "train_data_single = tf.data.Dataset.from_tensor_slices((x_train_single, y_train_single))\n",
    "train_data_single = train_data_single.cache().shuffle(BUFFER_SIZE).batch(BATCH_SIZE).repeat()\n",
    "\n",
    "val_data_single = tf.data.Dataset.from_tensor_slices((x_val_single, y_val_single))\n",
    "val_data_single = val_data_single.batch(BATCH_SIZE).repeat()"
   ]
  },
  {
   "cell_type": "code",
   "execution_count": 16,
   "metadata": {},
   "outputs": [
    {
     "name": "stdout",
     "output_type": "stream",
     "text": [
      "Model: \"sequential\"\n",
      "_________________________________________________________________\n",
      "Layer (type)                 Output Shape              Param #   \n",
      "=================================================================\n",
      "lstm (LSTM)                  (None, 32)                4736      \n",
      "_________________________________________________________________\n",
      "dense (Dense)                (None, 1)                 33        \n",
      "=================================================================\n",
      "Total params: 4,769\n",
      "Trainable params: 4,769\n",
      "Non-trainable params: 0\n",
      "_________________________________________________________________\n"
     ]
    }
   ],
   "source": [
    "single_step_model = tf.keras.models.Sequential()\n",
    "single_step_model.add(tf.keras.layers.LSTM(32,\n",
    "                                           input_shape=x_train_single.shape[-2:]))\n",
    "single_step_model.add(tf.keras.layers.Dense(1))\n",
    "\n",
    "single_step_model.compile(optimizer=tf.keras.optimizers.Adam(0.01), loss='mse', metrics=['acc'])\n",
    "single_step_model.summary()"
   ]
  },
  {
   "cell_type": "code",
   "execution_count": 17,
   "metadata": {},
   "outputs": [
    {
     "data": {
      "text/plain": [
       "(288, 4)"
      ]
     },
     "execution_count": 17,
     "metadata": {},
     "output_type": "execute_result"
    }
   ],
   "source": [
    "x_train_single.shape[-2:]"
   ]
  },
  {
   "cell_type": "code",
   "execution_count": 18,
   "metadata": {},
   "outputs": [
    {
     "name": "stdout",
     "output_type": "stream",
     "text": [
      "(256, 1)\n"
     ]
    }
   ],
   "source": [
    "for x, y in val_data_single.take(1):\n",
    "  print(single_step_model.predict(x).shape)"
   ]
  },
  {
   "cell_type": "code",
   "execution_count": null,
   "metadata": {},
   "outputs": [
    {
     "name": "stdout",
     "output_type": "stream",
     "text": [
      "Train for 500 steps, validate for 50 steps\n",
      "Epoch 1/10\n",
      "500/500 [==============================] - 195s 390ms/step - loss: 0.1483 - acc: 0.0000e+00 - val_loss: 0.0726 - val_acc: 0.0000e+00\n",
      "Epoch 2/10\n",
      "500/500 [==============================] - 196s 392ms/step - loss: 0.1233 - acc: 0.0000e+00 - val_loss: 0.0629 - val_acc: 0.0000e+00\n",
      "Epoch 3/10\n",
      "322/500 [==================>...........] - ETA: 1:10 - loss: 0.1206 - acc: 0.0000e+00"
     ]
    }
   ],
   "source": [
    "EVALUATION_INTERVAL = 500\n",
    "EPOCHS = 10\n",
    "\n",
    "single_step_history = single_step_model.fit(train_data_single, epochs=EPOCHS,\n",
    "                                            steps_per_epoch = EVALUATION_INTERVAL,\n",
    "                                            validation_data=val_data_single,\n",
    "                                            validation_steps=50)"
   ]
  },
  {
   "cell_type": "code",
   "execution_count": null,
   "metadata": {},
   "outputs": [],
   "source": [
    "def plot_train_history(history, title):\n",
    "  loss = history.history['loss']\n",
    "  val_loss = history.history['val_loss']\n",
    "\n",
    "  epochs = range(len(loss))\n",
    "\n",
    "  plt.figure()\n",
    "\n",
    "  plt.plot(epochs, loss, 'b', label='Training loss')\n",
    "  plt.plot(epochs, val_loss, 'r', label='Validation loss')\n",
    "  plt.title(title)\n",
    "  plt.legend()\n",
    "\n",
    "  plt.show()"
   ]
  },
  {
   "cell_type": "code",
   "execution_count": null,
   "metadata": {},
   "outputs": [],
   "source": [
    "plot_train_history(single_step_history,\n",
    "                   'Single Step Training and validation loss')"
   ]
  },
  {
   "cell_type": "code",
   "execution_count": null,
   "metadata": {},
   "outputs": [],
   "source": [
    "def create_time_steps(length):\n",
    "  return list(range(-length, 0))"
   ]
  },
  {
   "cell_type": "code",
   "execution_count": null,
   "metadata": {},
   "outputs": [],
   "source": [
    "def show_plot(plot_data, delta, title):\n",
    "  labels = ['History', 'True Future', 'Model Prediction']\n",
    "  marker = ['.-', 'rx', 'go']\n",
    "  time_steps = create_time_steps(plot_data[0].shape[0])\n",
    "  if delta:\n",
    "    future = delta\n",
    "  else:\n",
    "    future = 0\n",
    "\n",
    "  plt.title(title)\n",
    "  for i, x in enumerate(plot_data):\n",
    "    if i:\n",
    "      plt.plot(future, plot_data[i], marker[i], markersize=10,\n",
    "               label=labels[i])\n",
    "    else:\n",
    "      plt.plot(time_steps, plot_data[i].flatten(), marker[i], label=labels[i])\n",
    "  plt.legend()\n",
    "  plt.xlim([time_steps[0], (future+5)*2])\n",
    "  plt.xlabel('Time-Step')\n",
    "  return plt"
   ]
  },
  {
   "cell_type": "code",
   "execution_count": null,
   "metadata": {},
   "outputs": [],
   "source": [
    "for x, y in val_data_single.take(5):\n",
    "  plot = show_plot([x[0][:, 1].numpy(), y[0].numpy(),\n",
    "                    single_step_model.predict(x)[0]], 1,\n",
    "                   'Single Step Prediction')\n",
    "  plot.show()"
   ]
  },
  {
   "cell_type": "code",
   "execution_count": null,
   "metadata": {},
   "outputs": [],
   "source": []
  }
 ],
 "metadata": {
  "kernelspec": {
   "display_name": "Python 3",
   "language": "python",
   "name": "python3"
  },
  "language_info": {
   "codemirror_mode": {
    "name": "ipython",
    "version": 3
   },
   "file_extension": ".py",
   "mimetype": "text/x-python",
   "name": "python",
   "nbconvert_exporter": "python",
   "pygments_lexer": "ipython3",
   "version": "3.7.7"
  }
 },
 "nbformat": 4,
 "nbformat_minor": 4
}
